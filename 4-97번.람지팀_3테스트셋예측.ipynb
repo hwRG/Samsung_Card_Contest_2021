{
 "cells": [
  {
   "cell_type": "code",
   "execution_count": 18,
   "metadata": {
    "executionInfo": {
     "elapsed": 144204,
     "status": "ok",
     "timestamp": 1629384821256,
     "user": {
      "displayName": "참가팀4",
      "photoUrl": "",
      "userId": "02114618134657330613"
     },
     "user_tz": -540
    },
    "id": "FsGDUJ_qBv2u"
   },
   "outputs": [],
   "source": [
    "test_data = pd.read_excel('input_data.xlsx')\n",
    "test_X = copy.deepcopy(test_data['TEXT'])\n",
    "\n",
    "for i in range(len(test_X)):\n",
    "    test_X[i] = test_X[i].replace(' ', '');    test_X[i] = test_X[i].replace(',', '');    test_X[i] = test_X[i].replace('.', '');    test_X[i] = test_X[i].replace(';', '');    test_X[i] = test_X[i].replace('~', '');    test_X[i] = test_X[i].replace('❤', '');    test_X[i] = test_X[i].replace('ㆍ', '');    test_X[i] = test_X[i].replace('_', '');    test_X[i] = test_X[i].replace('-', '');    test_X[i] = test_X[i].replace('(', '');    test_X[i] = test_X[i].replace(')', '');    test_X[i] = test_X[i].replace(':', '');    test_X[i] = test_X[i].replace('?', '');    test_X[i] = test_X[i].replace('!', ''); test_X[i] = test_X[i].replace('ᆢ', '')\n",
    "\n",
    "test_X = typo_detection(test_X)\n",
    "\n",
    "def test_feature_creation(sel_col):\n",
    "    test_feature = pd.DataFrame(index = test_X, columns=sel_col)\n",
    "    for i in range(len(test_feature.index)):\n",
    "        for k in range(len(sel_col)):\n",
    "            if (test_feature.index[i].find(sel_col[k]) != -1):\n",
    "                test_feature.iloc[i][k] = 1\n",
    "            else:\n",
    "                test_feature.iloc[i][k] = 0\n",
    "    return test_feature\n",
    "\n",
    "test_feature_bin = test_feature_creation(sel_col_bin)\n",
    "test_feature_cat_one = test_feature_creation(sel_col_cat_one)\n",
    "test_feature_cat_two = test_feature_creation(sel_col_cat_two)\n",
    "\n",
    "for i in test_feature_bin.columns:\n",
    "    test_feature_bin[i] = pd.to_numeric(test_feature_bin[i])\n",
    "for i in test_feature_cat_one.columns:\n",
    "    test_feature_cat_one[i] = pd.to_numeric(test_feature_cat_one[i])\n",
    "for i in test_feature_cat_two.columns:\n",
    "    test_feature_cat_two[i] = pd.to_numeric(test_feature_cat_two[i])"
   ]
  },
  {
   "cell_type": "code",
   "execution_count": 19,
   "metadata": {
    "executionInfo": {
     "elapsed": 6562,
     "status": "ok",
     "timestamp": 1629384827811,
     "user": {
      "displayName": "참가팀4",
      "photoUrl": "",
      "userId": "02114618134657330613"
     },
     "user_tz": -540
    },
    "id": "J-OwvWRzoKyB"
   },
   "outputs": [],
   "source": [
    "# bin\n",
    "svm_bin_pred_test = svm_bin.predict(test_feature_bin)\n",
    "lgbc_bin_pred_test = lgbc_bin.predict(test_feature_bin)\n",
    "xgbc_bin_pred_test = xgbc_bin.predict(test_feature_bin)\n",
    "\n",
    "new_test_bin_feature = np.array([svm_bin_pred_test, lgbc_bin_pred_test, xgbc_bin_pred_test])\n",
    "new_test_bin_feature = np.transpose(new_test_bin_feature)\n",
    "\n",
    "test_final_bin = cbc_bin.predict(new_test_bin_feature)\n",
    "    \n",
    "#cat1\n",
    "svm_cat_one_pred_test = svm_cat_one.predict(test_feature_cat_one)\n",
    "lgbc_cat_one_pred_test = lgbc_cat_one.predict(test_feature_cat_one)\n",
    "xgbc_cat_one_pred_test = xgbc_cat_one.predict(test_feature_cat_one)\n",
    "\n",
    "new_test_cat_one_feature = np.array([svm_cat_one_pred_test, lgbc_cat_one_pred_test, xgbc_cat_one_pred_test])\n",
    "new_test_cat_one_feature = np.transpose(new_test_cat_one_feature)\n",
    "\n",
    "test_final_cat_one = cbc_cat_one.predict(new_test_cat_one_feature)\n",
    "\n",
    "#cat2\n",
    "svm_cat_two_pred_test = svm_cat_two.predict(test_feature_cat_two)\n",
    "lgbc_cat_two_pred_test = lgbc_cat_two.predict(test_feature_cat_two)\n",
    "xgbc_cat_two_pred_test = xgbc_cat_two.predict(test_feature_cat_two)\n",
    "\n",
    "new_test_cat_two_feature = np.array([svm_cat_two_pred_test, lgbc_cat_two_pred_test, xgbc_cat_two_pred_test])\n",
    "new_test_cat_two_feature = np.transpose(new_test_cat_two_feature)\n",
    "\n",
    "test_final_cat_two = cbc_cat_two.predict(new_test_cat_two_feature)"
   ]
  },
  {
   "cell_type": "code",
   "execution_count": 20,
   "metadata": {
    "colab": {
     "base_uri": "https://localhost:8080/"
    },
    "executionInfo": {
     "elapsed": 497,
     "status": "ok",
     "timestamp": 1629384828299,
     "user": {
      "displayName": "참가팀4",
      "photoUrl": "",
      "userId": "02114618134657330613"
     },
     "user_tz": -540
    },
    "id": "_cXExUOBolmh",
    "outputId": "4cb86d8c-c544-4b74-e8b5-b3a607b9e8b1"
   },
   "outputs": [
    {
     "name": "stderr",
     "output_type": "stream",
     "text": [
      "/usr/local/lib/python3.7/dist-packages/sklearn/preprocessing/_label.py:289: DataConversionWarning: A column-vector y was passed when a 1d array was expected. Please change the shape of y to (n_samples, ), for example using ravel().\n",
      "  y = column_or_1d(y, warn=True)\n",
      "/usr/local/lib/python3.7/dist-packages/pandas/core/indexing.py:670: SettingWithCopyWarning: \n",
      "A value is trying to be set on a copy of a slice from a DataFrame\n",
      "\n",
      "See the caveats in the documentation: https://pandas.pydata.org/pandas-docs/stable/user_guide/indexing.html#returning-a-view-versus-a-copy\n",
      "  iloc._setitem_with_indexer(indexer, value)\n"
     ]
    }
   ],
   "source": [
    "test_result = []\n",
    "for i in range(len(test_feature_bin.index)):\n",
    "    if le_bin.inverse_transform(test_final_bin)[i] == '중립' or le_bin.inverse_transform(test_final_bin)[i] == '폐기':\n",
    "        test_result.append(res_temp)\n",
    "        continue\n",
    "        \n",
    "    res_temp = le_bin.inverse_transform(test_final_bin)[i] + '>' + le_cat_one.inverse_transform(test_final_cat_one)[i] + le_cat_two.inverse_transform(test_final_cat_two)[i]\n",
    "    \n",
    "    if res_temp.find('고객서비스') != -1:\n",
    "        if res_temp.find('>상담시스템') == -1 and res_temp.find('>상담원') == -1:\n",
    "            res_temp = res_temp[:res_temp.find('고객서비스')+5]\n",
    "    if res_temp.find('삼성카드') != -1:\n",
    "        if res_temp.find('>상담시스템') != -1 or res_temp.find('>상담원') != -1: \n",
    "            res_temp = res_temp[:res_temp.find('삼성카드')+4]\n",
    "            \n",
    "    if res_temp.find('>없음') != -1:\n",
    "        res_temp = res_temp[:res_temp.find('>없음')]\n",
    "    if res_temp.find('없음>') != -1:\n",
    "        res_temp = res_temp[:res_temp.find('없음>')]\n",
    "    if res_temp.find('없음') != -1:\n",
    "        res_temp = res_temp[:res_temp.find('없음')]\n",
    "    if res_temp.find('기타>') != -1:\n",
    "        res_temp = res_temp[0:5]\n",
    "        \n",
    "    if res_temp == '칭찬' or res_temp =='불만':\n",
    "        res_temp = res_temp + '>기타'\n",
    "    \n",
    "    test_result.append(res_temp)\n",
    "\n",
    "for i in range(len(test_data['INT'])):\n",
    "    test_data['INT'].iloc[i] = test_result[i]"
   ]
  },
  {
   "cell_type": "markdown",
   "metadata": {
    "id": "_f_NifWnpKw-"
   },
   "source": [
    "# 결과출력"
   ]
  },
  {
   "cell_type": "code",
   "execution_count": 22,
   "metadata": {
    "executionInfo": {
     "elapsed": 380,
     "status": "ok",
     "timestamp": 1629384828676,
     "user": {
      "displayName": "참가팀4",
      "photoUrl": "",
      "userId": "02114618134657330613"
     },
     "user_tz": -540
    },
    "id": "UctiMXI8UQ0Q"
   },
   "outputs": [],
   "source": [
    "test_data.to_excel(\"result_data.xlsx\", index=False, encoding='utf-8-sig')"
   ]
  }
 ],
 "metadata": {
  "accelerator": "GPU",
  "colab": {
   "collapsed_sections": [],
   "name": "4-97번.람지(박나연,한우석).ipynb",
   "provenance": [
    {
     "file_id": "1xfA4KjVFpr1OM4Vr7dbv7T7hCmbudSOD",
     "timestamp": 1629175062468
    }
   ]
  },
  "kernelspec": {
   "display_name": "Python 3",
   "language": "python",
   "name": "python3"
  },
  "language_info": {
   "codemirror_mode": {
    "name": "ipython",
    "version": 3
   },
   "file_extension": ".py",
   "mimetype": "text/x-python",
   "name": "python",
   "nbconvert_exporter": "python",
   "pygments_lexer": "ipython3",
   "version": "3.8.5"
  }
 },
 "nbformat": 4,
 "nbformat_minor": 1
}

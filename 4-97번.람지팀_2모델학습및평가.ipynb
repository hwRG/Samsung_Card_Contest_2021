{
 "cells": [
  {
   "cell_type": "code",
   "execution_count": 12,
   "metadata": {
    "executionInfo": {
     "elapsed": 4,
     "status": "ok",
     "timestamp": 1629384354944,
     "user": {
      "displayName": "참가팀4",
      "photoUrl": "",
      "userId": "02114618134657330613"
     },
     "user_tz": -540
    },
    "id": "5PocSL8Z03z_"
   },
   "outputs": [],
   "source": [
    "# importance에 따라 선택된 feature로 X와 y 나누기\n",
    "x_train_bin, x_test_bin, y_train_bin, y_test_bin = train_test_split(feature_new_bin, y_bin, test_size=0.25, shuffle=True, random_state=1228)\n",
    "x_train_cat_one, x_test_cat_one, y_train_cat_one, y_test_cat_one = train_test_split(feature_new_cat_one, y_cat_one, test_size=0.25, shuffle=True, random_state=1228)\n",
    "x_train_cat_two, x_test_cat_two, y_train_cat_two, y_test_cat_two = train_test_split(feature_new_cat_two, y_cat_two, test_size=0.25, shuffle=True, random_state=1228)"
   ]
  },
  {
   "cell_type": "code",
   "execution_count": 13,
   "metadata": {
    "colab": {
     "base_uri": "https://localhost:8080/"
    },
    "executionInfo": {
     "elapsed": 58820,
     "status": "ok",
     "timestamp": 1629384413760,
     "user": {
      "displayName": "참가팀4",
      "photoUrl": "",
      "userId": "02114618134657330613"
     },
     "user_tz": -540
    },
    "id": "LFF8MSJ2b7Ri",
    "outputId": "4675471f-e8e4-460b-e0f4-4879988c926d"
   },
   "outputs": [
    {
     "name": "stdout",
     "output_type": "stream",
     "text": [
      "칭찬/불만 기본 모델 FIT\n",
      "SVM: 0.9475915221579961\n",
      "LGBC: 0.9495183044315992\n"
     ]
    },
    {
     "name": "stderr",
     "output_type": "stream",
     "text": [
      "/usr/local/lib/python3.7/dist-packages/xgboost/sklearn.py:1146: UserWarning: The use of label encoder in XGBClassifier is deprecated and will be removed in a future release. To remove this warning, do the following: 1) Pass option use_label_encoder=False when constructing XGBClassifier object; and 2) Encode your labels (y) as integers starting with 0, i.e. 0, 1, 2, ..., [num_class - 1].\n",
      "  warnings.warn(label_encoder_deprecation_msg, UserWarning)\n"
     ]
    },
    {
     "name": "stdout",
     "output_type": "stream",
     "text": [
      "XGBC: 0.9472061657032755\n",
      "칭찬/불만 분류 최종 메타 모델의 예측 정확도: 95.14\n"
     ]
    }
   ],
   "source": [
    "print(\"칭찬/불만 기본 모델 FIT\")\n",
    "\n",
    "svm_bin = SVC(random_state=1228, C=10.0, gamma=0.05, kernel='rbf')\n",
    "svm_bin.fit(x_train_bin, y_train_bin)\n",
    "svm_bin_pred = svm_bin.predict(x_test_bin)\n",
    "print('SVM:', accuracy_score(y_test_bin, svm_bin_pred))\n",
    "\n",
    "lgbc_bin = lgb.LGBMClassifier(random_state=1228, n_estimators=200)\n",
    "lgbc_bin.fit(x_train_bin, y_train_bin)\n",
    "lgbc_bin_pred = lgbc_bin.predict(x_test_bin)\n",
    "print('LGBC:', accuracy_score(y_test_bin, lgbc_bin_pred))\n",
    "\n",
    "xgbc_bin = XGBClassifier(random_state=1228, eval_metric='mlogloss', use_label_encoder=True)\n",
    "xgbc_bin.fit(x_train_bin, y_train_bin, verbose=False)\n",
    "xgbc_bin_pred = xgbc_bin.predict(x_test_bin)\n",
    "print('XGBC:', accuracy_score(y_test_bin, xgbc_bin_pred))\n",
    "\n",
    "new_bin_feature = np.array([svm_bin_pred, lgbc_bin_pred, xgbc_bin_pred])\n",
    "new_bin_feature = np.transpose(new_bin_feature)\n",
    "\n",
    "cbc_bin = CatBoostClassifier(iterations=1000, od_wait=200, metric_period=50, random_seed=1228, eval_metric='Accuracy')\n",
    "cbc_bin.fit(new_bin_feature, y_test_bin, verbose=False)\n",
    "\n",
    "final_bin = cbc_bin.predict(new_bin_feature)\n",
    "print('칭찬/불만 분류 최종 메타 모델의 예측 정확도:', round(accuracy_score(y_test_bin , final_bin),4)*100)"
   ]
  },
  {
   "cell_type": "code",
   "execution_count": 14,
   "metadata": {
    "colab": {
     "base_uri": "https://localhost:8080/"
    },
    "executionInfo": {
     "elapsed": 76643,
     "status": "ok",
     "timestamp": 1629384490394,
     "user": {
      "displayName": "참가팀4",
      "photoUrl": "",
      "userId": "02114618134657330613"
     },
     "user_tz": -540
    },
    "id": "dqAC7uACb8kG",
    "outputId": "0df9e380-d3a8-4be9-d59a-41899b17092e"
   },
   "outputs": [
    {
     "name": "stdout",
     "output_type": "stream",
     "text": [
      "카테고리1 기본 모델 FIT\n",
      "SVM: 0.9148362235067438\n",
      "LGBC: 0.9217726396917149\n"
     ]
    },
    {
     "name": "stderr",
     "output_type": "stream",
     "text": [
      "/usr/local/lib/python3.7/dist-packages/xgboost/sklearn.py:1146: UserWarning: The use of label encoder in XGBClassifier is deprecated and will be removed in a future release. To remove this warning, do the following: 1) Pass option use_label_encoder=False when constructing XGBClassifier object; and 2) Encode your labels (y) as integers starting with 0, i.e. 0, 1, 2, ..., [num_class - 1].\n",
      "  warnings.warn(label_encoder_deprecation_msg, UserWarning)\n"
     ]
    },
    {
     "name": "stdout",
     "output_type": "stream",
     "text": [
      "XGBC: 0.9210019267822736\n",
      "카테고리 별 분류 최종 메타 모델의 예측 정확도: 92.78999999999999\n"
     ]
    }
   ],
   "source": [
    "print(\"카테고리1 기본 모델 FIT\")\n",
    "\n",
    "svm_cat_one = SVC(random_state=1228, C=10.0, gamma=0.05, kernel='rbf')\n",
    "svm_cat_one.fit(x_train_cat_one, y_train_cat_one)\n",
    "svm_cat_one_pred = svm_cat_one.predict(x_test_cat_one)\n",
    "print('SVM:', accuracy_score(y_test_cat_one, svm_cat_one_pred))\n",
    "\n",
    "lgbc_cat_one = lgb.LGBMClassifier(random_state=1228)\n",
    "lgbc_cat_one.fit(x_train_cat_one, y_train_cat_one)\n",
    "lgbc_cat_one_pred = lgbc_cat_one.predict(x_test_cat_one)\n",
    "print('LGBC:', accuracy_score(y_test_cat_one, lgbc_cat_one_pred))\n",
    "\n",
    "xgbc_cat_one =XGBClassifier(random_state=1228, eval_metric='mlogloss', use_label_encoder=True)\n",
    "xgbc_cat_one.fit(x_train_cat_one, y_train_cat_one, verbose=False)\n",
    "xgbc_cat_one_pred = xgbc_cat_one.predict(x_test_cat_one)\n",
    "print('XGBC:', accuracy_score(y_test_cat_one, xgbc_cat_one_pred))\n",
    "\n",
    "new_cat_one_feature = np.array([svm_cat_one_pred, lgbc_cat_one_pred, xgbc_cat_one_pred])\n",
    "new_cat_one_feature = np.transpose(new_cat_one_feature)\n",
    "\n",
    "cbc_cat_one = CatBoostClassifier(iterations=1000, od_wait=200, metric_period=50, random_seed=1228, eval_metric='Accuracy')\n",
    "cbc_cat_one.fit(new_cat_one_feature, y_test_cat_one, verbose=False)\n",
    "\n",
    "final_cat_one = cbc_cat_one.predict(new_cat_one_feature)\n",
    "print('카테고리 별 분류 최종 메타 모델의 예측 정확도:', round(accuracy_score(y_test_cat_one , final_cat_one),4)*100)"
   ]
  },
  {
   "cell_type": "code",
   "execution_count": 15,
   "metadata": {
    "colab": {
     "base_uri": "https://localhost:8080/"
    },
    "executionInfo": {
     "elapsed": 186677,
     "status": "ok",
     "timestamp": 1629384677060,
     "user": {
      "displayName": "참가팀4",
      "photoUrl": "",
      "userId": "02114618134657330613"
     },
     "user_tz": -540
    },
    "id": "j3vq3-Bvb9sy",
    "outputId": "ca8c932d-e659-430c-c054-924a37226b95"
   },
   "outputs": [
    {
     "name": "stdout",
     "output_type": "stream",
     "text": [
      "카테고리2 기본 모델 FIT\n",
      "SVM: 0.8851637764932563\n",
      "LGBC: 0.8955684007707129\n"
     ]
    },
    {
     "name": "stderr",
     "output_type": "stream",
     "text": [
      "/usr/local/lib/python3.7/dist-packages/xgboost/sklearn.py:1146: UserWarning: The use of label encoder in XGBClassifier is deprecated and will be removed in a future release. To remove this warning, do the following: 1) Pass option use_label_encoder=False when constructing XGBClassifier object; and 2) Encode your labels (y) as integers starting with 0, i.e. 0, 1, 2, ..., [num_class - 1].\n",
      "  warnings.warn(label_encoder_deprecation_msg, UserWarning)\n"
     ]
    },
    {
     "name": "stdout",
     "output_type": "stream",
     "text": [
      "XGBC: 0.8890173410404625\n",
      "카테고리 별 분류 최종 메타 모델의 예측 정확도: 90.91\n"
     ]
    }
   ],
   "source": [
    "print(\"카테고리2 기본 모델 FIT\")\n",
    "\n",
    "svm_cat_two = SVC(random_state=1228, C=10.0, gamma=0.05, kernel='rbf')\n",
    "svm_cat_two.fit(x_train_cat_two, y_train_cat_two)\n",
    "svm_cat_two_pred = svm_cat_two.predict(x_test_cat_two)\n",
    "print('SVM:', accuracy_score(y_test_cat_two, svm_cat_two_pred))\n",
    "\n",
    "lgbc_cat_two = lgb.LGBMClassifier(random_state=1228)\n",
    "lgbc_cat_two.fit(x_train_cat_two, y_train_cat_two)\n",
    "lgbc_cat_two_pred = lgbc_cat_two.predict(x_test_cat_two)\n",
    "print('LGBC:', accuracy_score(y_test_cat_two, lgbc_cat_two_pred))\n",
    "\n",
    "xgbc_cat_two = XGBClassifier(random_state=1228, eval_metric='mlogloss', use_label_encoder=True)\n",
    "xgbc_cat_two.fit(x_train_cat_two, y_train_cat_two, verbose=False)\n",
    "xgbc_cat_two_pred = xgbc_cat_two.predict(x_test_cat_two)\n",
    "print('XGBC:', accuracy_score(y_test_cat_two, xgbc_cat_two_pred))\n",
    "\n",
    "new_cat_two_feature = np.array([svm_cat_two_pred, lgbc_cat_two_pred, xgbc_cat_two_pred])\n",
    "new_cat_two_feature = np.transpose(new_cat_two_feature)\n",
    "\n",
    "cbc_cat_two = CatBoostClassifier(iterations=1000, od_wait=200, metric_period=50, random_seed=1228, eval_metric='Accuracy')\n",
    "cbc_cat_two.fit(new_cat_two_feature, y_test_cat_two, verbose=False)\n",
    "\n",
    "final_cat_two = cbc_cat_two.predict(new_cat_two_feature)\n",
    "print('카테고리 별 분류 최종 메타 모델의 예측 정확도:', round(accuracy_score(y_test_cat_two , final_cat_two),4)*100)"
   ]
  }
 ],
 "metadata": {
  "accelerator": "GPU",
  "colab": {
   "collapsed_sections": [],
   "name": "4-97번.람지(박나연,한우석).ipynb",
   "provenance": [
    {
     "file_id": "1xfA4KjVFpr1OM4Vr7dbv7T7hCmbudSOD",
     "timestamp": 1629175062468
    }
   ]
  },
  "kernelspec": {
   "display_name": "Python 3",
   "language": "python",
   "name": "python3"
  },
  "language_info": {
   "codemirror_mode": {
    "name": "ipython",
    "version": 3
   },
   "file_extension": ".py",
   "mimetype": "text/x-python",
   "name": "python",
   "nbconvert_exporter": "python",
   "pygments_lexer": "ipython3",
   "version": "3.8.5"
  }
 },
 "nbformat": 4,
 "nbformat_minor": 1
}
